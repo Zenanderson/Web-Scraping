{
  "nbformat": 4,
  "nbformat_minor": 0,
  "metadata": {
    "colab": {
      "name": "Web Scraping - Coletando dados web",
      "provenance": [],
      "collapsed_sections": []
    },
    "kernelspec": {
      "name": "python3",
      "display_name": "Python 3"
    },
    "language_info": {
      "name": "python"
    }
  },
  "cells": [
    {
      "cell_type": "markdown",
      "metadata": {
        "id": "2OHrPQ0CVhXF"
      },
      "source": [
        "**Importando as bibliotecas**"
      ]
    },
    {
      "cell_type": "code",
      "metadata": {
        "id": "UAqcAFlEgz6g"
      },
      "source": [
        "import requests\n",
        "from bs4 import BeautifulSoup\n",
        "import pandas as pd"
      ],
      "execution_count": null,
      "outputs": []
    },
    {
      "cell_type": "markdown",
      "metadata": {
        "id": "NpgFmyFBVMck"
      },
      "source": [
        "**Coletando os dados web**"
      ]
    },
    {
      "cell_type": "code",
      "metadata": {
        "id": "tDFtXiOWVsFT"
      },
      "source": [
        "def scrap_state_info(state: str) -> dict:\n",
        "\n",
        "  print(f'  Picking {state} info ...')\n",
        "  state_url = f'https://ibge.gov.br/cidades-e-estados/{state}.html'\n",
        "  page = requests.get(state_url)\n",
        "\n",
        "  soup = BeautifulSoup(page.content, 'html.parser')\n",
        "  indicadors = soup.select('.indicador')\n",
        "\n",
        "  \n",
        "  state_dict = {  \n",
        "       ind.select('.ind-label')[0].text: ind.select('.ind-value')[0].text \n",
        "       for ind in indicadors\n",
        "      }\n",
        "\n",
        "\n",
        "  return state_dict \n",
        "\n",
        "  ##return [(ind.select('.ind-label')[0].text, ind.select('.ind-value')[0].text) for ind in indicadors]\n",
        "\n",
        "\n",
        "\n"
      ],
      "execution_count": null,
      "outputs": []
    },
    {
      "cell_type": "code",
      "metadata": {
        "colab": {
          "base_uri": "https://localhost:8080/"
        },
        "id": "ob0pnshjlvq7",
        "outputId": "c5149e39-0e70-42b1-ff54-fabc40cbcf65"
      },
      "source": [
        "states = ['RS', 'SC','PR','SP','RJ','MG','ES','MT','MS','DF','GO','AM','BA','CE','PA','PB','PE','PI','RN','RO','RR','SE','TO','MA']\n",
        "\n",
        "states_data = [scrap_state_info(state)for state in states]"
      ],
      "execution_count": null,
      "outputs": [
        {
          "output_type": "stream",
          "text": [
            "  Picking RS info ...\n",
            "  Picking SC info ...\n",
            "  Picking PR info ...\n",
            "  Picking SP info ...\n",
            "  Picking RJ info ...\n",
            "  Picking MG info ...\n",
            "  Picking ES info ...\n",
            "  Picking MT info ...\n",
            "  Picking MS info ...\n",
            "  Picking DF info ...\n",
            "  Picking GO info ...\n",
            "  Picking AM info ...\n",
            "  Picking BA info ...\n",
            "  Picking CE info ...\n",
            "  Picking PA info ...\n",
            "  Picking PB info ...\n",
            "  Picking PE info ...\n",
            "  Picking PI info ...\n",
            "  Picking RN info ...\n",
            "  Picking RO info ...\n",
            "  Picking RR info ...\n",
            "  Picking SE info ...\n",
            "  Picking TO info ...\n",
            "  Picking MA info ...\n"
          ],
          "name": "stdout"
        }
      ]
    },
    {
      "cell_type": "code",
      "metadata": {
        "colab": {
          "base_uri": "https://localhost:8080/",
          "height": 302
        },
        "id": "ZSLdvoEqqWfb",
        "outputId": "80a72882-b79d-4e53-db7f-7a9b44836004"
      },
      "source": [
        "df = pd.DataFrame(states_data)\n",
        "\n",
        "df.head()"
      ],
      "execution_count": null,
      "outputs": [
        {
          "output_type": "execute_result",
          "data": {
            "text/html": [
              "<div>\n",
              "<style scoped>\n",
              "    .dataframe tbody tr th:only-of-type {\n",
              "        vertical-align: middle;\n",
              "    }\n",
              "\n",
              "    .dataframe tbody tr th {\n",
              "        vertical-align: top;\n",
              "    }\n",
              "\n",
              "    .dataframe thead th {\n",
              "        text-align: right;\n",
              "    }\n",
              "</style>\n",
              "<table border=\"1\" class=\"dataframe\">\n",
              "  <thead>\n",
              "    <tr style=\"text-align: right;\">\n",
              "      <th></th>\n",
              "      <th>Governador</th>\n",
              "      <th>Capital</th>\n",
              "      <th>Gentílico</th>\n",
              "      <th>Área Territorial</th>\n",
              "      <th>População estimada</th>\n",
              "      <th>Densidade demográfica</th>\n",
              "      <th>Matrículas no ensino fundamental</th>\n",
              "      <th>IDH Índice de desenvolvimento humano</th>\n",
              "      <th>Receitas realizadas</th>\n",
              "      <th>Despesas empenhadas</th>\n",
              "      <th>Rendimento mensal domiciliar per capita</th>\n",
              "      <th>Total de veículos</th>\n",
              "    </tr>\n",
              "  </thead>\n",
              "  <tbody>\n",
              "    <tr>\n",
              "      <th>0</th>\n",
              "      <td>EDUARDO FIGUEIREDO CAVALHEIRO LEITE   [2019]</td>\n",
              "      <td>Porto Alegre   [2010]</td>\n",
              "      <td>gaúcho ou sul-rio-grandense</td>\n",
              "      <td>281.707,149 km²   [2020]</td>\n",
              "      <td>11.422.973 pessoas   [2020]</td>\n",
              "      <td>39,79 hab/km²   [2010]</td>\n",
              "      <td>1.269.309 matrículas   [2020]</td>\n",
              "      <td>0,746   [2010]</td>\n",
              "      <td>66.397.468,18 R$ (×1000)   [2017]</td>\n",
              "      <td>62.476.279,34 R$ (×1000)   [2017]</td>\n",
              "      <td>1.759 R$   [2020]</td>\n",
              "      <td>7.495.615 veículos   [2020]</td>\n",
              "    </tr>\n",
              "    <tr>\n",
              "      <th>1</th>\n",
              "      <td>CARLOS MOISÉS DA SILVA   [2019]</td>\n",
              "      <td>Florianópolis   [2010]</td>\n",
              "      <td>catarinense ou barriga-verde</td>\n",
              "      <td>95.730,684 km²   [2020]</td>\n",
              "      <td>7.252.502 pessoas   [2020]</td>\n",
              "      <td>65,29 hab/km²   [2010]</td>\n",
              "      <td>876.392 matrículas   [2020]</td>\n",
              "      <td>0,774   [2010]</td>\n",
              "      <td>34.696.772,82 R$ (×1000)   [2017]</td>\n",
              "      <td>25.595.103,38 R$ (×1000)   [2017]</td>\n",
              "      <td>1.632 R$   [2020]</td>\n",
              "      <td>5.583.126 veículos   [2020]</td>\n",
              "    </tr>\n",
              "    <tr>\n",
              "      <th>2</th>\n",
              "      <td>CARLOS ROBERTO MASSA JUNIOR   [2019]</td>\n",
              "      <td>Curitiba   [2010]</td>\n",
              "      <td>paranaense</td>\n",
              "      <td>199.298,982 km²   [2020]</td>\n",
              "      <td>11.516.840 pessoas   [2020]</td>\n",
              "      <td>52,40 hab/km²   [2010]</td>\n",
              "      <td>1.407.978 matrículas   [2020]</td>\n",
              "      <td>0,749   [2010]</td>\n",
              "      <td>60.163.576,12 R$ (×1000)   [2017]</td>\n",
              "      <td>55.534.402,97 R$ (×1000)   [2017]</td>\n",
              "      <td>1.508 R$   [2020]</td>\n",
              "      <td>8.077.413 veículos   [2020]</td>\n",
              "    </tr>\n",
              "    <tr>\n",
              "      <th>3</th>\n",
              "      <td>JOÃO AGRIPINO DA COSTA DORIA JUNIOR   [2019]</td>\n",
              "      <td>São Paulo   [2010]</td>\n",
              "      <td>paulista</td>\n",
              "      <td>248.219,481 km²   [2020]</td>\n",
              "      <td>46.289.333 pessoas   [2020]</td>\n",
              "      <td>166,25 hab/km²   [2010]</td>\n",
              "      <td>5.414.208 matrículas   [2020]</td>\n",
              "      <td>0,783   [2010]</td>\n",
              "      <td>232.822.496,57 R$ (×1000)   [2017]</td>\n",
              "      <td>231.982.243,69 R$ (×1000)   [2017]</td>\n",
              "      <td>1.814 R$   [2020]</td>\n",
              "      <td>30.778.960 veículos   [2020]</td>\n",
              "    </tr>\n",
              "    <tr>\n",
              "      <th>4</th>\n",
              "      <td>CLÁUDIO BOMFIM DE CASTRO E SILVA   [2019]</td>\n",
              "      <td>Rio de Janeiro   [2010]</td>\n",
              "      <td>fluminense</td>\n",
              "      <td>43.750,426 km²   [2020]</td>\n",
              "      <td>17.366.189 pessoas   [2020]</td>\n",
              "      <td>365,23 hab/km²   [2010]</td>\n",
              "      <td>1.967.998 matrículas   [2020]</td>\n",
              "      <td>0,761   [2010]</td>\n",
              "      <td>78.488.140,79 R$ (×1000)   [2017]</td>\n",
              "      <td>67.965.548,70 R$ (×1000)   [2017]</td>\n",
              "      <td>1.723 R$   [2020]</td>\n",
              "      <td>7.087.797 veículos   [2020]</td>\n",
              "    </tr>\n",
              "  </tbody>\n",
              "</table>\n",
              "</div>"
            ],
            "text/plain": [
              "                                     Governador  ...             Total de veículos\n",
              "0  EDUARDO FIGUEIREDO CAVALHEIRO LEITE   [2019]  ...   7.495.615 veículos   [2020]\n",
              "1               CARLOS MOISÉS DA SILVA   [2019]  ...   5.583.126 veículos   [2020]\n",
              "2          CARLOS ROBERTO MASSA JUNIOR   [2019]  ...   8.077.413 veículos   [2020]\n",
              "3  JOÃO AGRIPINO DA COSTA DORIA JUNIOR   [2019]  ...  30.778.960 veículos   [2020]\n",
              "4     CLÁUDIO BOMFIM DE CASTRO E SILVA   [2019]  ...   7.087.797 veículos   [2020]\n",
              "\n",
              "[5 rows x 12 columns]"
            ]
          },
          "metadata": {
            "tags": []
          },
          "execution_count": 108
        }
      ]
    },
    {
      "cell_type": "markdown",
      "metadata": {
        "id": "BawPZi1Sq8hQ"
      },
      "source": [
        "**Realizando uma cópia do DataFrame**"
      ]
    },
    {
      "cell_type": "code",
      "metadata": {
        "id": "inzDEWubq2Eg"
      },
      "source": [
        "states_df = df.copy()"
      ],
      "execution_count": null,
      "outputs": []
    },
    {
      "cell_type": "code",
      "metadata": {
        "colab": {
          "base_uri": "https://localhost:8080/"
        },
        "id": "XzCGZinfrDAo",
        "outputId": "365a70af-5eea-40af-c13c-060f09d1560f"
      },
      "source": [
        "states_df.columns"
      ],
      "execution_count": null,
      "outputs": [
        {
          "output_type": "execute_result",
          "data": {
            "text/plain": [
              "Index(['Governador', 'Capital', 'Gentílico', 'Área Territorial',\n",
              "       'População estimada', 'Densidade demográfica',\n",
              "       'Matrículas no ensino fundamental',\n",
              "       'IDH Índice de desenvolvimento humano', 'Receitas realizadas',\n",
              "       'Despesas empenhadas', 'Rendimento mensal domiciliar per capita',\n",
              "       'Total de veículos'],\n",
              "      dtype='object')"
            ]
          },
          "metadata": {
            "tags": []
          },
          "execution_count": 110
        }
      ]
    },
    {
      "cell_type": "markdown",
      "metadata": {
        "id": "kow2F92ywy-6"
      },
      "source": [
        "LIMPEZA DOS DADOS. LIMPANDO VÍRGULAS, BARRAS ETC..."
      ]
    },
    {
      "cell_type": "code",
      "metadata": {
        "colab": {
          "base_uri": "https://localhost:8080/",
          "height": 302
        },
        "id": "94Y6R5GQw0sX",
        "outputId": "c8400ac8-3ac2-4cc1-eb74-a28b2a7ed5db"
      },
      "source": [
        "states_df = states_df.replace({\n",
        "    '\\.': '',\n",
        "     ',': '.',\n",
        "     '\\[\\d+\\]': '',\n",
        "     'hab/km²': '',\n",
        "     'km²': '',\n",
        "     ' pessoas': '',\n",
        "     ' matrículas': '',\n",
        "     'R\\$.*': '',\n",
        "     ' veículos': ''\n",
        "}, regex =True)\n",
        "\n",
        "states_df.head()"
      ],
      "execution_count": null,
      "outputs": [
        {
          "output_type": "execute_result",
          "data": {
            "text/html": [
              "<div>\n",
              "<style scoped>\n",
              "    .dataframe tbody tr th:only-of-type {\n",
              "        vertical-align: middle;\n",
              "    }\n",
              "\n",
              "    .dataframe tbody tr th {\n",
              "        vertical-align: top;\n",
              "    }\n",
              "\n",
              "    .dataframe thead th {\n",
              "        text-align: right;\n",
              "    }\n",
              "</style>\n",
              "<table border=\"1\" class=\"dataframe\">\n",
              "  <thead>\n",
              "    <tr style=\"text-align: right;\">\n",
              "      <th></th>\n",
              "      <th>Governador</th>\n",
              "      <th>Capital</th>\n",
              "      <th>Gentílico</th>\n",
              "      <th>Área Territorial</th>\n",
              "      <th>População estimada</th>\n",
              "      <th>Densidade demográfica</th>\n",
              "      <th>Matrículas no ensino fundamental</th>\n",
              "      <th>IDH Índice de desenvolvimento humano</th>\n",
              "      <th>Receitas realizadas</th>\n",
              "      <th>Despesas empenhadas</th>\n",
              "      <th>Rendimento mensal domiciliar per capita</th>\n",
              "      <th>Total de veículos</th>\n",
              "    </tr>\n",
              "  </thead>\n",
              "  <tbody>\n",
              "    <tr>\n",
              "      <th>0</th>\n",
              "      <td>EDUARDO FIGUEIREDO CAVALHEIRO LEITE</td>\n",
              "      <td>Porto Alegre</td>\n",
              "      <td>gaúcho ou sul-rio-grandense</td>\n",
              "      <td>281707149</td>\n",
              "      <td>11422973</td>\n",
              "      <td>3979</td>\n",
              "      <td>1269309</td>\n",
              "      <td>0746</td>\n",
              "      <td>6639746818</td>\n",
              "      <td>6247627934</td>\n",
              "      <td>1759</td>\n",
              "      <td>7495615</td>\n",
              "    </tr>\n",
              "    <tr>\n",
              "      <th>1</th>\n",
              "      <td>CARLOS MOISÉS DA SILVA</td>\n",
              "      <td>Florianópolis</td>\n",
              "      <td>catarinense ou barriga-verde</td>\n",
              "      <td>95730684</td>\n",
              "      <td>7252502</td>\n",
              "      <td>6529</td>\n",
              "      <td>876392</td>\n",
              "      <td>0774</td>\n",
              "      <td>3469677282</td>\n",
              "      <td>2559510338</td>\n",
              "      <td>1632</td>\n",
              "      <td>5583126</td>\n",
              "    </tr>\n",
              "    <tr>\n",
              "      <th>2</th>\n",
              "      <td>CARLOS ROBERTO MASSA JUNIOR</td>\n",
              "      <td>Curitiba</td>\n",
              "      <td>paranaense</td>\n",
              "      <td>199298982</td>\n",
              "      <td>11516840</td>\n",
              "      <td>5240</td>\n",
              "      <td>1407978</td>\n",
              "      <td>0749</td>\n",
              "      <td>6016357612</td>\n",
              "      <td>5553440297</td>\n",
              "      <td>1508</td>\n",
              "      <td>8077413</td>\n",
              "    </tr>\n",
              "    <tr>\n",
              "      <th>3</th>\n",
              "      <td>JOÃO AGRIPINO DA COSTA DORIA JUNIOR</td>\n",
              "      <td>São Paulo</td>\n",
              "      <td>paulista</td>\n",
              "      <td>248219481</td>\n",
              "      <td>46289333</td>\n",
              "      <td>16625</td>\n",
              "      <td>5414208</td>\n",
              "      <td>0783</td>\n",
              "      <td>23282249657</td>\n",
              "      <td>23198224369</td>\n",
              "      <td>1814</td>\n",
              "      <td>30778960</td>\n",
              "    </tr>\n",
              "    <tr>\n",
              "      <th>4</th>\n",
              "      <td>CLÁUDIO BOMFIM DE CASTRO E SILVA</td>\n",
              "      <td>Rio de Janeiro</td>\n",
              "      <td>fluminense</td>\n",
              "      <td>43750426</td>\n",
              "      <td>17366189</td>\n",
              "      <td>36523</td>\n",
              "      <td>1967998</td>\n",
              "      <td>0761</td>\n",
              "      <td>7848814079</td>\n",
              "      <td>6796554870</td>\n",
              "      <td>1723</td>\n",
              "      <td>7087797</td>\n",
              "    </tr>\n",
              "  </tbody>\n",
              "</table>\n",
              "</div>"
            ],
            "text/plain": [
              "                               Governador  ... Total de veículos\n",
              "0  EDUARDO FIGUEIREDO CAVALHEIRO LEITE     ...        7495615   \n",
              "1               CARLOS MOISÉS DA SILVA     ...        5583126   \n",
              "2          CARLOS ROBERTO MASSA JUNIOR     ...        8077413   \n",
              "3  JOÃO AGRIPINO DA COSTA DORIA JUNIOR     ...       30778960   \n",
              "4     CLÁUDIO BOMFIM DE CASTRO E SILVA     ...        7087797   \n",
              "\n",
              "[5 rows x 12 columns]"
            ]
          },
          "metadata": {
            "tags": []
          },
          "execution_count": 120
        }
      ]
    },
    {
      "cell_type": "markdown",
      "metadata": {
        "id": "DKPhBmfByox_"
      },
      "source": [
        "**Dropando as colunas irrelevantes**"
      ]
    },
    {
      "cell_type": "code",
      "metadata": {
        "id": "zxSWlWMQ187g"
      },
      "source": [
        "states_df.drop('Total de veículos', axis=1, inplace=True)"
      ],
      "execution_count": null,
      "outputs": []
    },
    {
      "cell_type": "code",
      "metadata": {
        "id": "WwLDk3QW2qiK"
      },
      "source": [
        "states_df.drop('Densidade demográfica', axis=1, inplace=True)"
      ],
      "execution_count": null,
      "outputs": []
    },
    {
      "cell_type": "markdown",
      "metadata": {
        "id": "bSWXAuTW2Wmm"
      },
      "source": [
        "**Limpando as colunas númericos como tipo númerico**"
      ]
    },
    {
      "cell_type": "code",
      "metadata": {
        "id": "FbxH9MJryspP"
      },
      "source": [
        "num_cols = ['Área Territorial', 'População estimada', 'Matrículas no ensino fundamental', 'IDH Índice de desenvolvimento humano', 'Receitas realizadas', 'Despesas empenhadas', 'Rendimento mensal domiciliar per capita']"
      ],
      "execution_count": null,
      "outputs": []
    },
    {
      "cell_type": "code",
      "metadata": {
        "colab": {
          "base_uri": "https://localhost:8080/"
        },
        "id": "C_Sz9a4H0uNg",
        "outputId": "def54bd3-633a-4498-a1c9-415e1b4ec0b6"
      },
      "source": [
        "states_df.info()"
      ],
      "execution_count": null,
      "outputs": [
        {
          "output_type": "stream",
          "text": [
            "<class 'pandas.core.frame.DataFrame'>\n",
            "RangeIndex: 24 entries, 0 to 23\n",
            "Data columns (total 9 columns):\n",
            " #   Column                                   Non-Null Count  Dtype \n",
            "---  ------                                   --------------  ----- \n",
            " 0   Governador                               24 non-null     object\n",
            " 1   Capital                                  24 non-null     object\n",
            " 2   Área Territorial                         24 non-null     int64 \n",
            " 3   População estimada                       24 non-null     int64 \n",
            " 4   Matrículas no ensino fundamental        24 non-null     int64 \n",
            " 5   IDH Índice de desenvolvimento humano    24 non-null     int64 \n",
            " 6   Receitas realizadas                      24 non-null     int64 \n",
            " 7   Despesas empenhadas                      24 non-null     int64 \n",
            " 8   Rendimento mensal domiciliar per capita  24 non-null     int64 \n",
            "dtypes: int64(7), object(2)\n",
            "memory usage: 1.8+ KB\n"
          ],
          "name": "stdout"
        }
      ]
    },
    {
      "cell_type": "code",
      "metadata": {
        "id": "UfFoRHPH3RJe"
      },
      "source": [
        "##states_df[num_cols] = states_df[num_cols].apply(lambda x: x.str.strip())\n",
        "##states_df[num_cols] = states_df[num_cols].apply(pd.to_numeric)"
      ],
      "execution_count": null,
      "outputs": []
    },
    {
      "cell_type": "code",
      "metadata": {
        "colab": {
          "base_uri": "https://localhost:8080/",
          "height": 202
        },
        "id": "3LDcAPZH3S96",
        "outputId": "55d3f0d8-9897-49bd-cebb-f7b8f1dfb131"
      },
      "source": [
        "states_df.head()"
      ],
      "execution_count": null,
      "outputs": [
        {
          "output_type": "execute_result",
          "data": {
            "text/html": [
              "<div>\n",
              "<style scoped>\n",
              "    .dataframe tbody tr th:only-of-type {\n",
              "        vertical-align: middle;\n",
              "    }\n",
              "\n",
              "    .dataframe tbody tr th {\n",
              "        vertical-align: top;\n",
              "    }\n",
              "\n",
              "    .dataframe thead th {\n",
              "        text-align: right;\n",
              "    }\n",
              "</style>\n",
              "<table border=\"1\" class=\"dataframe\">\n",
              "  <thead>\n",
              "    <tr style=\"text-align: right;\">\n",
              "      <th></th>\n",
              "      <th>Governador</th>\n",
              "      <th>Capital</th>\n",
              "      <th>Área Territorial</th>\n",
              "      <th>População estimada</th>\n",
              "      <th>Matrículas no ensino fundamental</th>\n",
              "      <th>IDH Índice de desenvolvimento humano</th>\n",
              "      <th>Receitas realizadas</th>\n",
              "      <th>Despesas empenhadas</th>\n",
              "      <th>Rendimento mensal domiciliar per capita</th>\n",
              "    </tr>\n",
              "  </thead>\n",
              "  <tbody>\n",
              "    <tr>\n",
              "      <th>0</th>\n",
              "      <td>EDUARDO FIGUEIREDO CAVALHEIRO LEITE</td>\n",
              "      <td>Porto Alegre</td>\n",
              "      <td>281707149</td>\n",
              "      <td>11422973</td>\n",
              "      <td>1269309</td>\n",
              "      <td>746</td>\n",
              "      <td>6639746818</td>\n",
              "      <td>6247627934</td>\n",
              "      <td>1759</td>\n",
              "    </tr>\n",
              "    <tr>\n",
              "      <th>1</th>\n",
              "      <td>CARLOS MOISÉS DA SILVA</td>\n",
              "      <td>Florianópolis</td>\n",
              "      <td>95730684</td>\n",
              "      <td>7252502</td>\n",
              "      <td>876392</td>\n",
              "      <td>774</td>\n",
              "      <td>3469677282</td>\n",
              "      <td>2559510338</td>\n",
              "      <td>1632</td>\n",
              "    </tr>\n",
              "    <tr>\n",
              "      <th>2</th>\n",
              "      <td>CARLOS ROBERTO MASSA JUNIOR</td>\n",
              "      <td>Curitiba</td>\n",
              "      <td>199298982</td>\n",
              "      <td>11516840</td>\n",
              "      <td>1407978</td>\n",
              "      <td>749</td>\n",
              "      <td>6016357612</td>\n",
              "      <td>5553440297</td>\n",
              "      <td>1508</td>\n",
              "    </tr>\n",
              "    <tr>\n",
              "      <th>3</th>\n",
              "      <td>JOÃO AGRIPINO DA COSTA DORIA JUNIOR</td>\n",
              "      <td>São Paulo</td>\n",
              "      <td>248219481</td>\n",
              "      <td>46289333</td>\n",
              "      <td>5414208</td>\n",
              "      <td>783</td>\n",
              "      <td>23282249657</td>\n",
              "      <td>23198224369</td>\n",
              "      <td>1814</td>\n",
              "    </tr>\n",
              "    <tr>\n",
              "      <th>4</th>\n",
              "      <td>CLÁUDIO BOMFIM DE CASTRO E SILVA</td>\n",
              "      <td>Rio de Janeiro</td>\n",
              "      <td>43750426</td>\n",
              "      <td>17366189</td>\n",
              "      <td>1967998</td>\n",
              "      <td>761</td>\n",
              "      <td>7848814079</td>\n",
              "      <td>6796554870</td>\n",
              "      <td>1723</td>\n",
              "    </tr>\n",
              "  </tbody>\n",
              "</table>\n",
              "</div>"
            ],
            "text/plain": [
              "                               Governador  ... Rendimento mensal domiciliar per capita\n",
              "0  EDUARDO FIGUEIREDO CAVALHEIRO LEITE     ...                                    1759\n",
              "1               CARLOS MOISÉS DA SILVA     ...                                    1632\n",
              "2          CARLOS ROBERTO MASSA JUNIOR     ...                                    1508\n",
              "3  JOÃO AGRIPINO DA COSTA DORIA JUNIOR     ...                                    1814\n",
              "4     CLÁUDIO BOMFIM DE CASTRO E SILVA     ...                                    1723\n",
              "\n",
              "[5 rows x 9 columns]"
            ]
          },
          "metadata": {
            "tags": []
          },
          "execution_count": 146
        }
      ]
    },
    {
      "cell_type": "markdown",
      "metadata": {
        "id": "jyLYrUgT3gBg"
      },
      "source": [
        "**Exportando o DataFrame em formato de CSV para o Google Drive**"
      ]
    },
    {
      "cell_type": "code",
      "metadata": {
        "colab": {
          "base_uri": "https://localhost:8080/"
        },
        "id": "wR3Wdhbd3jyW",
        "outputId": "5e6e1cc8-7f81-4734-f60f-45c10b2d888f"
      },
      "source": [
        "from google.colab import drive\n",
        "drive.mount('/content/drive')\n",
        "\n",
        "states_df.to_csv('/content/drive/MyDrive/Colab Notebooks/ibge_states.csv') "
      ],
      "execution_count": null,
      "outputs": [
        {
          "output_type": "stream",
          "text": [
            "Drive already mounted at /content/drive; to attempt to forcibly remount, call drive.mount(\"/content/drive\", force_remount=True).\n"
          ],
          "name": "stdout"
        }
      ]
    },
    {
      "cell_type": "code",
      "metadata": {
        "id": "yBcCuXs-46hl"
      },
      "source": [
        "# Bibliotecas para visualização dos dados\n",
        "import seaborn as sns\n",
        "import matplotlib.pyplot as plt\n",
        "%matplotlib inline"
      ],
      "execution_count": null,
      "outputs": []
    },
    {
      "cell_type": "code",
      "metadata": {
        "id": "zufFK8OT5E0n"
      },
      "source": [
        "import plotly.express as px"
      ],
      "execution_count": null,
      "outputs": []
    },
    {
      "cell_type": "markdown",
      "metadata": {
        "id": "1ISReFvt6Gfg"
      },
      "source": [
        "**Plotando a população estimada por capital**"
      ]
    },
    {
      "cell_type": "code",
      "metadata": {
        "colab": {
          "base_uri": "https://localhost:8080/",
          "height": 542
        },
        "id": "zRJ7jm3g5h0n",
        "outputId": "f5a90aa5-c649-42d5-9d94-6446857f613f"
      },
      "source": [
        "grafico = px.histogram(states_df, x=\"Capital\", color=\"População estimada\")\n",
        "grafico.show()"
      ],
      "execution_count": null,
      "outputs": [
        {
          "output_type": "display_data",
          "data": {
            "text/html": [
              "<html>\n",
              "<head><meta charset=\"utf-8\" /></head>\n",
              "<body>\n",
              "    <div>\n",
              "            <script src=\"https://cdnjs.cloudflare.com/ajax/libs/mathjax/2.7.5/MathJax.js?config=TeX-AMS-MML_SVG\"></script><script type=\"text/javascript\">if (window.MathJax) {MathJax.Hub.Config({SVG: {font: \"STIX-Web\"}});}</script>\n",
              "                <script type=\"text/javascript\">window.PlotlyConfig = {MathJaxConfig: 'local'};</script>\n",
              "        <script src=\"https://cdn.plot.ly/plotly-latest.min.js\"></script>    \n",
              "            <div id=\"0c67cefc-cb5f-4d6f-97dc-699c58525200\" class=\"plotly-graph-div\" style=\"height:525px; width:100%;\"></div>\n",
              "            <script type=\"text/javascript\">\n",
              "                \n",
              "                    window.PLOTLYENV=window.PLOTLYENV || {};\n",
              "                    \n",
              "                if (document.getElementById(\"0c67cefc-cb5f-4d6f-97dc-699c58525200\")) {\n",
              "                    Plotly.newPlot(\n",
              "                        '0c67cefc-cb5f-4d6f-97dc-699c58525200',\n",
              "                        [{\"alignmentgroup\": \"True\", \"bingroup\": \"x\", \"hoverlabel\": {\"namelength\": 0}, \"hovertemplate\": \"Popula\\u00e7\\u00e3o estimada=11422973<br>Capital=%{x}<br>count=%{y}\", \"legendgroup\": \"Popula\\u00e7\\u00e3o estimada=11422973\", \"marker\": {\"color\": \"#636efa\"}, \"name\": \"Popula\\u00e7\\u00e3o estimada=11422973\", \"offsetgroup\": \"Popula\\u00e7\\u00e3o estimada=11422973\", \"orientation\": \"v\", \"showlegend\": true, \"type\": \"histogram\", \"x\": [\"Porto Alegre\\u00a0\\u00a0\\u00a0\"], \"xaxis\": \"x\", \"yaxis\": \"y\"}, {\"alignmentgroup\": \"True\", \"bingroup\": \"x\", \"hoverlabel\": {\"namelength\": 0}, \"hovertemplate\": \"Popula\\u00e7\\u00e3o estimada=7252502<br>Capital=%{x}<br>count=%{y}\", \"legendgroup\": \"Popula\\u00e7\\u00e3o estimada=7252502\", \"marker\": {\"color\": \"#EF553B\"}, \"name\": \"Popula\\u00e7\\u00e3o estimada=7252502\", \"offsetgroup\": \"Popula\\u00e7\\u00e3o estimada=7252502\", \"orientation\": \"v\", \"showlegend\": true, \"type\": \"histogram\", \"x\": [\"Florian\\u00f3polis\\u00a0\\u00a0\\u00a0\"], \"xaxis\": \"x\", \"yaxis\": \"y\"}, {\"alignmentgroup\": \"True\", \"bingroup\": \"x\", \"hoverlabel\": {\"namelength\": 0}, \"hovertemplate\": \"Popula\\u00e7\\u00e3o estimada=11516840<br>Capital=%{x}<br>count=%{y}\", \"legendgroup\": \"Popula\\u00e7\\u00e3o estimada=11516840\", \"marker\": {\"color\": \"#00cc96\"}, \"name\": \"Popula\\u00e7\\u00e3o estimada=11516840\", \"offsetgroup\": \"Popula\\u00e7\\u00e3o estimada=11516840\", \"orientation\": \"v\", \"showlegend\": true, \"type\": \"histogram\", \"x\": [\"Curitiba\\u00a0\\u00a0\\u00a0\"], \"xaxis\": \"x\", \"yaxis\": \"y\"}, {\"alignmentgroup\": \"True\", \"bingroup\": \"x\", \"hoverlabel\": {\"namelength\": 0}, \"hovertemplate\": \"Popula\\u00e7\\u00e3o estimada=46289333<br>Capital=%{x}<br>count=%{y}\", \"legendgroup\": \"Popula\\u00e7\\u00e3o estimada=46289333\", \"marker\": {\"color\": \"#ab63fa\"}, \"name\": \"Popula\\u00e7\\u00e3o estimada=46289333\", \"offsetgroup\": \"Popula\\u00e7\\u00e3o estimada=46289333\", \"orientation\": \"v\", \"showlegend\": true, \"type\": \"histogram\", \"x\": [\"S\\u00e3o Paulo\\u00a0\\u00a0\\u00a0\"], \"xaxis\": \"x\", \"yaxis\": \"y\"}, {\"alignmentgroup\": \"True\", \"bingroup\": \"x\", \"hoverlabel\": {\"namelength\": 0}, \"hovertemplate\": \"Popula\\u00e7\\u00e3o estimada=17366189<br>Capital=%{x}<br>count=%{y}\", \"legendgroup\": \"Popula\\u00e7\\u00e3o estimada=17366189\", \"marker\": {\"color\": \"#FFA15A\"}, \"name\": \"Popula\\u00e7\\u00e3o estimada=17366189\", \"offsetgroup\": \"Popula\\u00e7\\u00e3o estimada=17366189\", \"orientation\": \"v\", \"showlegend\": true, \"type\": \"histogram\", \"x\": [\"Rio de Janeiro\\u00a0\\u00a0\\u00a0\"], \"xaxis\": \"x\", \"yaxis\": \"y\"}, {\"alignmentgroup\": \"True\", \"bingroup\": \"x\", \"hoverlabel\": {\"namelength\": 0}, \"hovertemplate\": \"Popula\\u00e7\\u00e3o estimada=21292666<br>Capital=%{x}<br>count=%{y}\", \"legendgroup\": \"Popula\\u00e7\\u00e3o estimada=21292666\", \"marker\": {\"color\": \"#19d3f3\"}, \"name\": \"Popula\\u00e7\\u00e3o estimada=21292666\", \"offsetgroup\": \"Popula\\u00e7\\u00e3o estimada=21292666\", \"orientation\": \"v\", \"showlegend\": true, \"type\": \"histogram\", \"x\": [\"Belo Horizonte\\u00a0\\u00a0\\u00a0\"], \"xaxis\": \"x\", \"yaxis\": \"y\"}, {\"alignmentgroup\": \"True\", \"bingroup\": \"x\", \"hoverlabel\": {\"namelength\": 0}, \"hovertemplate\": \"Popula\\u00e7\\u00e3o estimada=4064052<br>Capital=%{x}<br>count=%{y}\", \"legendgroup\": \"Popula\\u00e7\\u00e3o estimada=4064052\", \"marker\": {\"color\": \"#FF6692\"}, \"name\": \"Popula\\u00e7\\u00e3o estimada=4064052\", \"offsetgroup\": \"Popula\\u00e7\\u00e3o estimada=4064052\", \"orientation\": \"v\", \"showlegend\": true, \"type\": \"histogram\", \"x\": [\"Vit\\u00f3ria\\u00a0\\u00a0\\u00a0\"], \"xaxis\": \"x\", \"yaxis\": \"y\"}, {\"alignmentgroup\": \"True\", \"bingroup\": \"x\", \"hoverlabel\": {\"namelength\": 0}, \"hovertemplate\": \"Popula\\u00e7\\u00e3o estimada=3526220<br>Capital=%{x}<br>count=%{y}\", \"legendgroup\": \"Popula\\u00e7\\u00e3o estimada=3526220\", \"marker\": {\"color\": \"#B6E880\"}, \"name\": \"Popula\\u00e7\\u00e3o estimada=3526220\", \"offsetgroup\": \"Popula\\u00e7\\u00e3o estimada=3526220\", \"orientation\": \"v\", \"showlegend\": true, \"type\": \"histogram\", \"x\": [\"Cuiab\\u00e1\\u00a0\\u00a0\\u00a0\"], \"xaxis\": \"x\", \"yaxis\": \"y\"}, {\"alignmentgroup\": \"True\", \"bingroup\": \"x\", \"hoverlabel\": {\"namelength\": 0}, \"hovertemplate\": \"Popula\\u00e7\\u00e3o estimada=2809394<br>Capital=%{x}<br>count=%{y}\", \"legendgroup\": \"Popula\\u00e7\\u00e3o estimada=2809394\", \"marker\": {\"color\": \"#FF97FF\"}, \"name\": \"Popula\\u00e7\\u00e3o estimada=2809394\", \"offsetgroup\": \"Popula\\u00e7\\u00e3o estimada=2809394\", \"orientation\": \"v\", \"showlegend\": true, \"type\": \"histogram\", \"x\": [\"Campo Grande\\u00a0\\u00a0\\u00a0\"], \"xaxis\": \"x\", \"yaxis\": \"y\"}, {\"alignmentgroup\": \"True\", \"bingroup\": \"x\", \"hoverlabel\": {\"namelength\": 0}, \"hovertemplate\": \"Popula\\u00e7\\u00e3o estimada=3055149<br>Capital=%{x}<br>count=%{y}\", \"legendgroup\": \"Popula\\u00e7\\u00e3o estimada=3055149\", \"marker\": {\"color\": \"#FECB52\"}, \"name\": \"Popula\\u00e7\\u00e3o estimada=3055149\", \"offsetgroup\": \"Popula\\u00e7\\u00e3o estimada=3055149\", \"orientation\": \"v\", \"showlegend\": true, \"type\": \"histogram\", \"x\": [\"Bras\\u00edlia\\u00a0\\u00a0\\u00a0\"], \"xaxis\": \"x\", \"yaxis\": \"y\"}, {\"alignmentgroup\": \"True\", \"bingroup\": \"x\", \"hoverlabel\": {\"namelength\": 0}, \"hovertemplate\": \"Popula\\u00e7\\u00e3o estimada=7113540<br>Capital=%{x}<br>count=%{y}\", \"legendgroup\": \"Popula\\u00e7\\u00e3o estimada=7113540\", \"marker\": {\"color\": \"#636efa\"}, \"name\": \"Popula\\u00e7\\u00e3o estimada=7113540\", \"offsetgroup\": \"Popula\\u00e7\\u00e3o estimada=7113540\", \"orientation\": \"v\", \"showlegend\": true, \"type\": \"histogram\", \"x\": [\"Goi\\u00e2nia\\u00a0\\u00a0\\u00a0\"], \"xaxis\": \"x\", \"yaxis\": \"y\"}, {\"alignmentgroup\": \"True\", \"bingroup\": \"x\", \"hoverlabel\": {\"namelength\": 0}, \"hovertemplate\": \"Popula\\u00e7\\u00e3o estimada=4207714<br>Capital=%{x}<br>count=%{y}\", \"legendgroup\": \"Popula\\u00e7\\u00e3o estimada=4207714\", \"marker\": {\"color\": \"#EF553B\"}, \"name\": \"Popula\\u00e7\\u00e3o estimada=4207714\", \"offsetgroup\": \"Popula\\u00e7\\u00e3o estimada=4207714\", \"orientation\": \"v\", \"showlegend\": true, \"type\": \"histogram\", \"x\": [\"Manaus\\u00a0\\u00a0\\u00a0\"], \"xaxis\": \"x\", \"yaxis\": \"y\"}, {\"alignmentgroup\": \"True\", \"bingroup\": \"x\", \"hoverlabel\": {\"namelength\": 0}, \"hovertemplate\": \"Popula\\u00e7\\u00e3o estimada=14930634<br>Capital=%{x}<br>count=%{y}\", \"legendgroup\": \"Popula\\u00e7\\u00e3o estimada=14930634\", \"marker\": {\"color\": \"#00cc96\"}, \"name\": \"Popula\\u00e7\\u00e3o estimada=14930634\", \"offsetgroup\": \"Popula\\u00e7\\u00e3o estimada=14930634\", \"orientation\": \"v\", \"showlegend\": true, \"type\": \"histogram\", \"x\": [\"Salvador\\u00a0\\u00a0\\u00a0\"], \"xaxis\": \"x\", \"yaxis\": \"y\"}, {\"alignmentgroup\": \"True\", \"bingroup\": \"x\", \"hoverlabel\": {\"namelength\": 0}, \"hovertemplate\": \"Popula\\u00e7\\u00e3o estimada=9187103<br>Capital=%{x}<br>count=%{y}\", \"legendgroup\": \"Popula\\u00e7\\u00e3o estimada=9187103\", \"marker\": {\"color\": \"#ab63fa\"}, \"name\": \"Popula\\u00e7\\u00e3o estimada=9187103\", \"offsetgroup\": \"Popula\\u00e7\\u00e3o estimada=9187103\", \"orientation\": \"v\", \"showlegend\": true, \"type\": \"histogram\", \"x\": [\"Fortaleza\\u00a0\\u00a0\\u00a0\"], \"xaxis\": \"x\", \"yaxis\": \"y\"}, {\"alignmentgroup\": \"True\", \"bingroup\": \"x\", \"hoverlabel\": {\"namelength\": 0}, \"hovertemplate\": \"Popula\\u00e7\\u00e3o estimada=8690745<br>Capital=%{x}<br>count=%{y}\", \"legendgroup\": \"Popula\\u00e7\\u00e3o estimada=8690745\", \"marker\": {\"color\": \"#FFA15A\"}, \"name\": \"Popula\\u00e7\\u00e3o estimada=8690745\", \"offsetgroup\": \"Popula\\u00e7\\u00e3o estimada=8690745\", \"orientation\": \"v\", \"showlegend\": true, \"type\": \"histogram\", \"x\": [\"Bel\\u00e9m\\u00a0\\u00a0\\u00a0\"], \"xaxis\": \"x\", \"yaxis\": \"y\"}, {\"alignmentgroup\": \"True\", \"bingroup\": \"x\", \"hoverlabel\": {\"namelength\": 0}, \"hovertemplate\": \"Popula\\u00e7\\u00e3o estimada=4039277<br>Capital=%{x}<br>count=%{y}\", \"legendgroup\": \"Popula\\u00e7\\u00e3o estimada=4039277\", \"marker\": {\"color\": \"#19d3f3\"}, \"name\": \"Popula\\u00e7\\u00e3o estimada=4039277\", \"offsetgroup\": \"Popula\\u00e7\\u00e3o estimada=4039277\", \"orientation\": \"v\", \"showlegend\": true, \"type\": \"histogram\", \"x\": [\"Jo\\u00e3o Pessoa\\u00a0\\u00a0\\u00a0\"], \"xaxis\": \"x\", \"yaxis\": \"y\"}, {\"alignmentgroup\": \"True\", \"bingroup\": \"x\", \"hoverlabel\": {\"namelength\": 0}, \"hovertemplate\": \"Popula\\u00e7\\u00e3o estimada=9616621<br>Capital=%{x}<br>count=%{y}\", \"legendgroup\": \"Popula\\u00e7\\u00e3o estimada=9616621\", \"marker\": {\"color\": \"#FF6692\"}, \"name\": \"Popula\\u00e7\\u00e3o estimada=9616621\", \"offsetgroup\": \"Popula\\u00e7\\u00e3o estimada=9616621\", \"orientation\": \"v\", \"showlegend\": true, \"type\": \"histogram\", \"x\": [\"Recife\\u00a0\\u00a0\\u00a0\"], \"xaxis\": \"x\", \"yaxis\": \"y\"}, {\"alignmentgroup\": \"True\", \"bingroup\": \"x\", \"hoverlabel\": {\"namelength\": 0}, \"hovertemplate\": \"Popula\\u00e7\\u00e3o estimada=3281480<br>Capital=%{x}<br>count=%{y}\", \"legendgroup\": \"Popula\\u00e7\\u00e3o estimada=3281480\", \"marker\": {\"color\": \"#B6E880\"}, \"name\": \"Popula\\u00e7\\u00e3o estimada=3281480\", \"offsetgroup\": \"Popula\\u00e7\\u00e3o estimada=3281480\", \"orientation\": \"v\", \"showlegend\": true, \"type\": \"histogram\", \"x\": [\"Teresina\\u00a0\\u00a0\\u00a0\"], \"xaxis\": \"x\", \"yaxis\": \"y\"}, {\"alignmentgroup\": \"True\", \"bingroup\": \"x\", \"hoverlabel\": {\"namelength\": 0}, \"hovertemplate\": \"Popula\\u00e7\\u00e3o estimada=3534165<br>Capital=%{x}<br>count=%{y}\", \"legendgroup\": \"Popula\\u00e7\\u00e3o estimada=3534165\", \"marker\": {\"color\": \"#FF97FF\"}, \"name\": \"Popula\\u00e7\\u00e3o estimada=3534165\", \"offsetgroup\": \"Popula\\u00e7\\u00e3o estimada=3534165\", \"orientation\": \"v\", \"showlegend\": true, \"type\": \"histogram\", \"x\": [\"Natal\\u00a0\\u00a0\\u00a0\"], \"xaxis\": \"x\", \"yaxis\": \"y\"}, {\"alignmentgroup\": \"True\", \"bingroup\": \"x\", \"hoverlabel\": {\"namelength\": 0}, \"hovertemplate\": \"Popula\\u00e7\\u00e3o estimada=1796460<br>Capital=%{x}<br>count=%{y}\", \"legendgroup\": \"Popula\\u00e7\\u00e3o estimada=1796460\", \"marker\": {\"color\": \"#FECB52\"}, \"name\": \"Popula\\u00e7\\u00e3o estimada=1796460\", \"offsetgroup\": \"Popula\\u00e7\\u00e3o estimada=1796460\", \"orientation\": \"v\", \"showlegend\": true, \"type\": \"histogram\", \"x\": [\"Porto Velho\\u00a0\\u00a0\\u00a0\"], \"xaxis\": \"x\", \"yaxis\": \"y\"}, {\"alignmentgroup\": \"True\", \"bingroup\": \"x\", \"hoverlabel\": {\"namelength\": 0}, \"hovertemplate\": \"Popula\\u00e7\\u00e3o estimada=631181<br>Capital=%{x}<br>count=%{y}\", \"legendgroup\": \"Popula\\u00e7\\u00e3o estimada=631181\", \"marker\": {\"color\": \"#636efa\"}, \"name\": \"Popula\\u00e7\\u00e3o estimada=631181\", \"offsetgroup\": \"Popula\\u00e7\\u00e3o estimada=631181\", \"orientation\": \"v\", \"showlegend\": true, \"type\": \"histogram\", \"x\": [\"Boa Vista\\u00a0\\u00a0\\u00a0\"], \"xaxis\": \"x\", \"yaxis\": \"y\"}, {\"alignmentgroup\": \"True\", \"bingroup\": \"x\", \"hoverlabel\": {\"namelength\": 0}, \"hovertemplate\": \"Popula\\u00e7\\u00e3o estimada=2318822<br>Capital=%{x}<br>count=%{y}\", \"legendgroup\": \"Popula\\u00e7\\u00e3o estimada=2318822\", \"marker\": {\"color\": \"#EF553B\"}, \"name\": \"Popula\\u00e7\\u00e3o estimada=2318822\", \"offsetgroup\": \"Popula\\u00e7\\u00e3o estimada=2318822\", \"orientation\": \"v\", \"showlegend\": true, \"type\": \"histogram\", \"x\": [\"Aracaju\\u00a0\\u00a0\\u00a0\"], \"xaxis\": \"x\", \"yaxis\": \"y\"}, {\"alignmentgroup\": \"True\", \"bingroup\": \"x\", \"hoverlabel\": {\"namelength\": 0}, \"hovertemplate\": \"Popula\\u00e7\\u00e3o estimada=1590248<br>Capital=%{x}<br>count=%{y}\", \"legendgroup\": \"Popula\\u00e7\\u00e3o estimada=1590248\", \"marker\": {\"color\": \"#00cc96\"}, \"name\": \"Popula\\u00e7\\u00e3o estimada=1590248\", \"offsetgroup\": \"Popula\\u00e7\\u00e3o estimada=1590248\", \"orientation\": \"v\", \"showlegend\": true, \"type\": \"histogram\", \"x\": [\"Palmas\\u00a0\\u00a0\\u00a0\"], \"xaxis\": \"x\", \"yaxis\": \"y\"}, {\"alignmentgroup\": \"True\", \"bingroup\": \"x\", \"hoverlabel\": {\"namelength\": 0}, \"hovertemplate\": \"Popula\\u00e7\\u00e3o estimada=7114598<br>Capital=%{x}<br>count=%{y}\", \"legendgroup\": \"Popula\\u00e7\\u00e3o estimada=7114598\", \"marker\": {\"color\": \"#ab63fa\"}, \"name\": \"Popula\\u00e7\\u00e3o estimada=7114598\", \"offsetgroup\": \"Popula\\u00e7\\u00e3o estimada=7114598\", \"orientation\": \"v\", \"showlegend\": true, \"type\": \"histogram\", \"x\": [\"S\\u00e3o Lu\\u00eds\\u00a0\\u00a0\\u00a0\"], \"xaxis\": \"x\", \"yaxis\": \"y\"}],\n",
              "                        {\"barmode\": \"relative\", \"legend\": {\"tracegroupgap\": 0}, \"margin\": {\"t\": 60}, \"template\": {\"data\": {\"bar\": [{\"error_x\": {\"color\": \"#2a3f5f\"}, \"error_y\": {\"color\": \"#2a3f5f\"}, \"marker\": {\"line\": {\"color\": \"#E5ECF6\", \"width\": 0.5}}, \"type\": \"bar\"}], \"barpolar\": [{\"marker\": {\"line\": {\"color\": \"#E5ECF6\", \"width\": 0.5}}, \"type\": \"barpolar\"}], \"carpet\": [{\"aaxis\": {\"endlinecolor\": \"#2a3f5f\", \"gridcolor\": \"white\", \"linecolor\": \"white\", \"minorgridcolor\": \"white\", \"startlinecolor\": \"#2a3f5f\"}, \"baxis\": {\"endlinecolor\": \"#2a3f5f\", \"gridcolor\": \"white\", \"linecolor\": \"white\", \"minorgridcolor\": \"white\", \"startlinecolor\": \"#2a3f5f\"}, \"type\": \"carpet\"}], \"choropleth\": [{\"colorbar\": {\"outlinewidth\": 0, \"ticks\": \"\"}, \"type\": \"choropleth\"}], \"contour\": [{\"colorbar\": {\"outlinewidth\": 0, \"ticks\": \"\"}, \"colorscale\": [[0.0, \"#0d0887\"], [0.1111111111111111, \"#46039f\"], [0.2222222222222222, \"#7201a8\"], [0.3333333333333333, \"#9c179e\"], [0.4444444444444444, \"#bd3786\"], [0.5555555555555556, \"#d8576b\"], [0.6666666666666666, \"#ed7953\"], [0.7777777777777778, \"#fb9f3a\"], [0.8888888888888888, \"#fdca26\"], [1.0, \"#f0f921\"]], \"type\": \"contour\"}], \"contourcarpet\": [{\"colorbar\": {\"outlinewidth\": 0, \"ticks\": \"\"}, \"type\": \"contourcarpet\"}], \"heatmap\": [{\"colorbar\": {\"outlinewidth\": 0, \"ticks\": \"\"}, \"colorscale\": [[0.0, \"#0d0887\"], [0.1111111111111111, \"#46039f\"], [0.2222222222222222, \"#7201a8\"], [0.3333333333333333, \"#9c179e\"], [0.4444444444444444, \"#bd3786\"], [0.5555555555555556, \"#d8576b\"], [0.6666666666666666, \"#ed7953\"], [0.7777777777777778, \"#fb9f3a\"], [0.8888888888888888, \"#fdca26\"], [1.0, \"#f0f921\"]], \"type\": \"heatmap\"}], \"heatmapgl\": [{\"colorbar\": {\"outlinewidth\": 0, \"ticks\": \"\"}, \"colorscale\": [[0.0, \"#0d0887\"], [0.1111111111111111, \"#46039f\"], [0.2222222222222222, \"#7201a8\"], [0.3333333333333333, \"#9c179e\"], [0.4444444444444444, \"#bd3786\"], [0.5555555555555556, \"#d8576b\"], [0.6666666666666666, \"#ed7953\"], [0.7777777777777778, \"#fb9f3a\"], [0.8888888888888888, \"#fdca26\"], [1.0, \"#f0f921\"]], \"type\": \"heatmapgl\"}], \"histogram\": [{\"marker\": {\"colorbar\": {\"outlinewidth\": 0, \"ticks\": \"\"}}, \"type\": \"histogram\"}], \"histogram2d\": [{\"colorbar\": {\"outlinewidth\": 0, \"ticks\": \"\"}, \"colorscale\": [[0.0, \"#0d0887\"], [0.1111111111111111, \"#46039f\"], [0.2222222222222222, \"#7201a8\"], [0.3333333333333333, \"#9c179e\"], [0.4444444444444444, \"#bd3786\"], [0.5555555555555556, \"#d8576b\"], [0.6666666666666666, \"#ed7953\"], [0.7777777777777778, \"#fb9f3a\"], [0.8888888888888888, \"#fdca26\"], [1.0, \"#f0f921\"]], \"type\": \"histogram2d\"}], \"histogram2dcontour\": [{\"colorbar\": {\"outlinewidth\": 0, \"ticks\": \"\"}, \"colorscale\": [[0.0, \"#0d0887\"], [0.1111111111111111, \"#46039f\"], [0.2222222222222222, \"#7201a8\"], [0.3333333333333333, \"#9c179e\"], [0.4444444444444444, \"#bd3786\"], [0.5555555555555556, \"#d8576b\"], [0.6666666666666666, \"#ed7953\"], [0.7777777777777778, \"#fb9f3a\"], [0.8888888888888888, \"#fdca26\"], [1.0, \"#f0f921\"]], \"type\": \"histogram2dcontour\"}], \"mesh3d\": [{\"colorbar\": {\"outlinewidth\": 0, \"ticks\": \"\"}, \"type\": \"mesh3d\"}], \"parcoords\": [{\"line\": {\"colorbar\": {\"outlinewidth\": 0, \"ticks\": \"\"}}, \"type\": \"parcoords\"}], \"pie\": [{\"automargin\": true, \"type\": \"pie\"}], \"scatter\": [{\"marker\": {\"colorbar\": {\"outlinewidth\": 0, \"ticks\": \"\"}}, \"type\": \"scatter\"}], \"scatter3d\": [{\"line\": {\"colorbar\": {\"outlinewidth\": 0, \"ticks\": \"\"}}, \"marker\": {\"colorbar\": {\"outlinewidth\": 0, \"ticks\": \"\"}}, \"type\": \"scatter3d\"}], \"scattercarpet\": [{\"marker\": {\"colorbar\": {\"outlinewidth\": 0, \"ticks\": \"\"}}, \"type\": \"scattercarpet\"}], \"scattergeo\": [{\"marker\": {\"colorbar\": {\"outlinewidth\": 0, \"ticks\": \"\"}}, \"type\": \"scattergeo\"}], \"scattergl\": [{\"marker\": {\"colorbar\": {\"outlinewidth\": 0, \"ticks\": \"\"}}, \"type\": \"scattergl\"}], \"scattermapbox\": [{\"marker\": {\"colorbar\": {\"outlinewidth\": 0, \"ticks\": \"\"}}, \"type\": \"scattermapbox\"}], \"scatterpolar\": [{\"marker\": {\"colorbar\": {\"outlinewidth\": 0, \"ticks\": \"\"}}, \"type\": \"scatterpolar\"}], \"scatterpolargl\": [{\"marker\": {\"colorbar\": {\"outlinewidth\": 0, \"ticks\": \"\"}}, \"type\": \"scatterpolargl\"}], \"scatterternary\": [{\"marker\": {\"colorbar\": {\"outlinewidth\": 0, \"ticks\": \"\"}}, \"type\": \"scatterternary\"}], \"surface\": [{\"colorbar\": {\"outlinewidth\": 0, \"ticks\": \"\"}, \"colorscale\": [[0.0, \"#0d0887\"], [0.1111111111111111, \"#46039f\"], [0.2222222222222222, \"#7201a8\"], [0.3333333333333333, \"#9c179e\"], [0.4444444444444444, \"#bd3786\"], [0.5555555555555556, \"#d8576b\"], [0.6666666666666666, \"#ed7953\"], [0.7777777777777778, \"#fb9f3a\"], [0.8888888888888888, \"#fdca26\"], [1.0, \"#f0f921\"]], \"type\": \"surface\"}], \"table\": [{\"cells\": {\"fill\": {\"color\": \"#EBF0F8\"}, \"line\": {\"color\": \"white\"}}, \"header\": {\"fill\": {\"color\": \"#C8D4E3\"}, \"line\": {\"color\": \"white\"}}, \"type\": \"table\"}]}, \"layout\": {\"annotationdefaults\": {\"arrowcolor\": \"#2a3f5f\", \"arrowhead\": 0, \"arrowwidth\": 1}, \"coloraxis\": {\"colorbar\": {\"outlinewidth\": 0, \"ticks\": \"\"}}, \"colorscale\": {\"diverging\": [[0, \"#8e0152\"], [0.1, \"#c51b7d\"], [0.2, \"#de77ae\"], [0.3, \"#f1b6da\"], [0.4, \"#fde0ef\"], [0.5, \"#f7f7f7\"], [0.6, \"#e6f5d0\"], [0.7, \"#b8e186\"], [0.8, \"#7fbc41\"], [0.9, \"#4d9221\"], [1, \"#276419\"]], \"sequential\": [[0.0, \"#0d0887\"], [0.1111111111111111, \"#46039f\"], [0.2222222222222222, \"#7201a8\"], [0.3333333333333333, \"#9c179e\"], [0.4444444444444444, \"#bd3786\"], [0.5555555555555556, \"#d8576b\"], [0.6666666666666666, \"#ed7953\"], [0.7777777777777778, \"#fb9f3a\"], [0.8888888888888888, \"#fdca26\"], [1.0, \"#f0f921\"]], \"sequentialminus\": [[0.0, \"#0d0887\"], [0.1111111111111111, \"#46039f\"], [0.2222222222222222, \"#7201a8\"], [0.3333333333333333, \"#9c179e\"], [0.4444444444444444, \"#bd3786\"], [0.5555555555555556, \"#d8576b\"], [0.6666666666666666, \"#ed7953\"], [0.7777777777777778, \"#fb9f3a\"], [0.8888888888888888, \"#fdca26\"], [1.0, \"#f0f921\"]]}, \"colorway\": [\"#636efa\", \"#EF553B\", \"#00cc96\", \"#ab63fa\", \"#FFA15A\", \"#19d3f3\", \"#FF6692\", \"#B6E880\", \"#FF97FF\", \"#FECB52\"], \"font\": {\"color\": \"#2a3f5f\"}, \"geo\": {\"bgcolor\": \"white\", \"lakecolor\": \"white\", \"landcolor\": \"#E5ECF6\", \"showlakes\": true, \"showland\": true, \"subunitcolor\": \"white\"}, \"hoverlabel\": {\"align\": \"left\"}, \"hovermode\": \"closest\", \"mapbox\": {\"style\": \"light\"}, \"paper_bgcolor\": \"white\", \"plot_bgcolor\": \"#E5ECF6\", \"polar\": {\"angularaxis\": {\"gridcolor\": \"white\", \"linecolor\": \"white\", \"ticks\": \"\"}, \"bgcolor\": \"#E5ECF6\", \"radialaxis\": {\"gridcolor\": \"white\", \"linecolor\": \"white\", \"ticks\": \"\"}}, \"scene\": {\"xaxis\": {\"backgroundcolor\": \"#E5ECF6\", \"gridcolor\": \"white\", \"gridwidth\": 2, \"linecolor\": \"white\", \"showbackground\": true, \"ticks\": \"\", \"zerolinecolor\": \"white\"}, \"yaxis\": {\"backgroundcolor\": \"#E5ECF6\", \"gridcolor\": \"white\", \"gridwidth\": 2, \"linecolor\": \"white\", \"showbackground\": true, \"ticks\": \"\", \"zerolinecolor\": \"white\"}, \"zaxis\": {\"backgroundcolor\": \"#E5ECF6\", \"gridcolor\": \"white\", \"gridwidth\": 2, \"linecolor\": \"white\", \"showbackground\": true, \"ticks\": \"\", \"zerolinecolor\": \"white\"}}, \"shapedefaults\": {\"line\": {\"color\": \"#2a3f5f\"}}, \"ternary\": {\"aaxis\": {\"gridcolor\": \"white\", \"linecolor\": \"white\", \"ticks\": \"\"}, \"baxis\": {\"gridcolor\": \"white\", \"linecolor\": \"white\", \"ticks\": \"\"}, \"bgcolor\": \"#E5ECF6\", \"caxis\": {\"gridcolor\": \"white\", \"linecolor\": \"white\", \"ticks\": \"\"}}, \"title\": {\"x\": 0.05}, \"xaxis\": {\"automargin\": true, \"gridcolor\": \"white\", \"linecolor\": \"white\", \"ticks\": \"\", \"title\": {\"standoff\": 15}, \"zerolinecolor\": \"white\", \"zerolinewidth\": 2}, \"yaxis\": {\"automargin\": true, \"gridcolor\": \"white\", \"linecolor\": \"white\", \"ticks\": \"\", \"title\": {\"standoff\": 15}, \"zerolinecolor\": \"white\", \"zerolinewidth\": 2}}}, \"xaxis\": {\"anchor\": \"y\", \"domain\": [0.0, 1.0], \"title\": {\"text\": \"Capital\"}}, \"yaxis\": {\"anchor\": \"x\", \"domain\": [0.0, 1.0], \"title\": {\"text\": \"count\"}}},\n",
              "                        {\"responsive\": true}\n",
              "                    ).then(function(){\n",
              "                            \n",
              "var gd = document.getElementById('0c67cefc-cb5f-4d6f-97dc-699c58525200');\n",
              "var x = new MutationObserver(function (mutations, observer) {{\n",
              "        var display = window.getComputedStyle(gd).display;\n",
              "        if (!display || display === 'none') {{\n",
              "            console.log([gd, 'removed!']);\n",
              "            Plotly.purge(gd);\n",
              "            observer.disconnect();\n",
              "        }}\n",
              "}});\n",
              "\n",
              "// Listen for the removal of the full notebook cells\n",
              "var notebookContainer = gd.closest('#notebook-container');\n",
              "if (notebookContainer) {{\n",
              "    x.observe(notebookContainer, {childList: true});\n",
              "}}\n",
              "\n",
              "// Listen for the clearing of the current output cell\n",
              "var outputEl = gd.closest('.output');\n",
              "if (outputEl) {{\n",
              "    x.observe(outputEl, {childList: true});\n",
              "}}\n",
              "\n",
              "                        })\n",
              "                };\n",
              "                \n",
              "            </script>\n",
              "        </div>\n",
              "</body>\n",
              "</html>"
            ]
          },
          "metadata": {
            "tags": []
          }
        }
      ]
    }
  ]
}